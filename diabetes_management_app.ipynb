{
  "nbformat": 4,
  "nbformat_minor": 0,
  "metadata": {
    "colab": {
      "provenance": [],
      "authorship_tag": "ABX9TyNKTsV0baFt4uLm+m2EOO0n",
      "include_colab_link": true
    },
    "kernelspec": {
      "name": "python3",
      "display_name": "Python 3"
    },
    "language_info": {
      "name": "python"
    }
  },
  "cells": [
    {
      "cell_type": "markdown",
      "metadata": {
        "id": "view-in-github",
        "colab_type": "text"
      },
      "source": [
        "<a href=\"https://colab.research.google.com/github/adityarajiitmd/Deep-Learning-and-NLP/blob/main/diabetes_management_app.ipynb\" target=\"_parent\"><img src=\"https://colab.research.google.com/assets/colab-badge.svg\" alt=\"Open In Colab\"/></a>"
      ]
    },
    {
      "cell_type": "code",
      "execution_count": 13,
      "metadata": {
        "id": "I7vZf5uI1xr8"
      },
      "outputs": [],
      "source": [
        "!pip install -q google-generativeai==0.3.1\n",
        "!pip install -q gradio"
      ]
    },
    {
      "cell_type": "code",
      "source": [
        "import google.generativeai as genai\n",
        "from pathlib import Path\n",
        "import gradio as gr"
      ],
      "metadata": {
        "id": "GB9pqtqg14eJ"
      },
      "execution_count": 14,
      "outputs": []
    },
    {
      "cell_type": "code",
      "source": [
        "genai.__version__"
      ],
      "metadata": {
        "colab": {
          "base_uri": "https://localhost:8080/",
          "height": 35
        },
        "id": "Qzc5gr3s164O",
        "outputId": "fe225f19-b152-473d-a7ba-00140e729141"
      },
      "execution_count": 15,
      "outputs": [
        {
          "output_type": "execute_result",
          "data": {
            "text/plain": [
              "'0.3.1'"
            ],
            "application/vnd.google.colaboratory.intrinsic+json": {
              "type": "string"
            }
          },
          "metadata": {},
          "execution_count": 15
        }
      ]
    },
    {
      "cell_type": "code",
      "source": [
        "from google.colab import userdata\n",
        "\n",
        "genai.configure(api_key = userdata.get('Gemini'))"
      ],
      "metadata": {
        "id": "z_KdOf5i19eO"
      },
      "execution_count": 16,
      "outputs": []
    },
    {
      "cell_type": "code",
      "source": [
        "generation_config = {\n",
        "    \"temperature\": 0.4,\n",
        "    \"top_p\": 1,\n",
        "    \"top_k\": 32,\n",
        "    \"max_output_tokens\": 4096,\n",
        "}\n",
        "\n",
        "safety_settings = [\n",
        "    {\n",
        "        \"category\": \"HARM_CATEGORY_HARASSMENT\",\n",
        "        \"threshold\": \"BLOCK_MEDIUM_AND_ABOVE\"\n",
        "    },\n",
        "    {\n",
        "        \"category\": \"HARM_CATEGORY_HATE_SPEECH\",\n",
        "        \"threshold\": \"BLOCK_MEDIUM_AND_ABOVE\"\n",
        "    },\n",
        "    {\n",
        "        \"category\": \"HARM_CATEGORY_SEXUALLY_EXPLICIT\",\n",
        "        \"threshold\": \"BLOCK_MEDIUM_AND_ABOVE\"\n",
        "    },\n",
        "    {\n",
        "        \"category\": \"HARM_CATEGORY_DANGEROUS_CONTENT\",\n",
        "        \"threshold\": \"BLOCK_MEDIUM_AND_ABOVE\"\n",
        "    }\n",
        "]"
      ],
      "metadata": {
        "id": "nKftSpBp3BDK"
      },
      "execution_count": 17,
      "outputs": []
    },
    {
      "cell_type": "code",
      "source": [
        "model = genai.GenerativeModel(model_name = \"gemini-pro-vision\",\n",
        "                              generation_config = generation_config,\n",
        "                              safety_settings = safety_settings)"
      ],
      "metadata": {
        "id": "5loJnAhX4UcO"
      },
      "execution_count": 18,
      "outputs": []
    },
    {
      "cell_type": "code",
      "source": [
        "def input_image_setup(file_loc):\n",
        "  if not(img:= Path(file_loc)).exists():\n",
        "    raise FileNotFoundError(f\"Could not find image: {img}\")\n",
        "\n",
        "  image_parts = [\n",
        "      {\n",
        "          \"mime_type\": \"image/jpeg\",\n",
        "          \"data\": Path(file_loc).read_bytes()\n",
        "      }\n",
        "  ]\n",
        "  return image_parts"
      ],
      "metadata": {
        "id": "bD04-kYo4mfQ"
      },
      "execution_count": 29,
      "outputs": []
    },
    {
      "cell_type": "code",
      "source": [
        "def generative_gemini_response(input_prompt, image_loc):\n",
        "  image_prompt = input_image_setup(image_loc)\n",
        "\n",
        "  prompt_parts = [input_prompt, image_prompt[0]]\n",
        "  response = model.generate_content(prompt_parts)\n",
        "  return response.text\n",
        ""
      ],
      "metadata": {
        "id": "HA9zbdMj5TU7"
      },
      "execution_count": 30,
      "outputs": []
    },
    {
      "cell_type": "code",
      "source": [
        "input_prompt = \"\"\"\n",
        "                As an expert specializing in assessing the suitability of fruits and foods for individuals with diabetes, your task involves analyzing input images featuring various food items. Your first objective is to identify the type of fruit or food present in the image. Subsequently, you must determine the glycemic index of the identified item. Based on this glycemic index, provide recommendation on whether individuals with diabetes can include the detected food in their diet. If the food is deemed suitable, specify the recommendation quantity for consumption.\n",
        "                \"\"\""
      ],
      "metadata": {
        "id": "VltXC4oA5yF-"
      },
      "execution_count": 31,
      "outputs": []
    },
    {
      "cell_type": "code",
      "source": [
        "def upload_file(files):\n",
        "  file_paths = [file.name for file in files]\n",
        "  if file_paths:\n",
        "    response = generative_gemini_response(input_prompt, file_paths[0])\n",
        "  return file_paths[0], response\n",
        "\n",
        "with gr.Blocks() as demo:\n",
        "  file_output = gr.Textbox()\n",
        "  image_output = gr.Image()\n",
        "  combined_output = [image_output, file_output]\n",
        "  upload_button = gr.UploadButton(\"Click to Upload an Image of the Food you want \",\n",
        "                                  file_types = [\"image\"],\n",
        "                                  file_count=\"multiple\")\n",
        "  upload_button.upload(upload_file, upload_button, combined_output)\n",
        "\n",
        "demo.launch(debug=True)"
      ],
      "metadata": {
        "colab": {
          "base_uri": "https://localhost:8080/",
          "height": 680
        },
        "id": "MCptFACm7Wk-",
        "outputId": "173c6a72-fd29-485d-c9d2-5733b7d79b8c"
      },
      "execution_count": 32,
      "outputs": [
        {
          "output_type": "stream",
          "name": "stdout",
          "text": [
            "Setting queue=True in a Colab notebook requires sharing enabled. Setting `share=True` (you can turn this off by setting `share=False` in `launch()` explicitly).\n",
            "\n",
            "Colab notebook detected. This cell will run indefinitely so that you can see errors and logs. To turn off, set debug=False in launch().\n",
            "Running on public URL: https://0c8831bf769152f971.gradio.live\n",
            "\n",
            "This share link expires in 72 hours. For free permanent hosting and GPU upgrades, run `gradio deploy` from Terminal to deploy to Spaces (https://huggingface.co/spaces)\n"
          ]
        },
        {
          "output_type": "display_data",
          "data": {
            "text/plain": [
              "<IPython.core.display.HTML object>"
            ],
            "text/html": [
              "<div><iframe src=\"https://0c8831bf769152f971.gradio.live\" width=\"100%\" height=\"500\" allow=\"autoplay; camera; microphone; clipboard-read; clipboard-write;\" frameborder=\"0\" allowfullscreen></iframe></div>"
            ]
          },
          "metadata": {}
        },
        {
          "output_type": "stream",
          "name": "stdout",
          "text": [
            "Keyboard interruption in main thread... closing server.\n",
            "Killing tunnel 127.0.0.1:7860 <> https://0c8831bf769152f971.gradio.live\n"
          ]
        },
        {
          "output_type": "execute_result",
          "data": {
            "text/plain": []
          },
          "metadata": {},
          "execution_count": 32
        }
      ]
    },
    {
      "cell_type": "code",
      "source": [],
      "metadata": {
        "id": "ALfy_yGF8se0"
      },
      "execution_count": 22,
      "outputs": []
    }
  ]
}