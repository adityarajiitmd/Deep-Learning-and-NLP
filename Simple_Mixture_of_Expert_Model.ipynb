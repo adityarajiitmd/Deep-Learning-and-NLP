{
  "nbformat": 4,
  "nbformat_minor": 0,
  "metadata": {
    "colab": {
      "provenance": [],
      "gpuType": "T4",
      "authorship_tag": "ABX9TyMSuq+mlZNbza2qBNBFI5Cr",
      "include_colab_link": true
    },
    "kernelspec": {
      "name": "python3",
      "display_name": "Python 3"
    },
    "language_info": {
      "name": "python"
    },
    "accelerator": "GPU"
  },
  "cells": [
    {
      "cell_type": "markdown",
      "metadata": {
        "id": "view-in-github",
        "colab_type": "text"
      },
      "source": [
        "<a href=\"https://colab.research.google.com/github/adityarajiitmd/Deep-Learning-and-NLP/blob/main/Simple_Mixture_of_Expert_Model.ipynb\" target=\"_parent\"><img src=\"https://colab.research.google.com/assets/colab-badge.svg\" alt=\"Open In Colab\"/></a>"
      ]
    },
    {
      "cell_type": "code",
      "execution_count": 18,
      "metadata": {
        "id": "Gl-1CtZxyLIC"
      },
      "outputs": [],
      "source": [
        "import tensorflow as tf\n",
        "from tensorflow.keras import layers\n",
        "from tensorflow.keras.layers.experimental import preprocessing\n",
        "from keras.utils import to_categorical\n",
        "import numpy as np\n",
        "from tensorflow.keras.layers import Dropout"
      ]
    },
    {
      "cell_type": "code",
      "source": [
        "(x_train,y_train),(x_test,y_test) = tf.keras.datasets.cifar10.load_data()\n",
        "\n",
        "x_train = x_train.astype(\"float32\")/255\n",
        "x_test = x_test.astype(\"float32\")/255\n",
        "\n",
        "num_classes = 10\n",
        "y_train = to_categorical(y_train,num_classes)\n",
        "y_test = to_categorical(y_test,num_classes)\n",
        "\n"
      ],
      "metadata": {
        "id": "Z-RuI-gEye7E"
      },
      "execution_count": 19,
      "outputs": []
    },
    {
      "cell_type": "code",
      "source": [
        "from keras import layers, models"
      ],
      "metadata": {
        "id": "v87ax_qczEKB"
      },
      "execution_count": 20,
      "outputs": []
    },
    {
      "cell_type": "code",
      "source": [
        "def create_expert_model(input_shape,num_outputs):\n",
        "  model = models.Sequential([\n",
        "      layers.Conv2D(32,(3,3),activation='relu',input_shape=input_shape),\n",
        "      layers.Dropout(0.2), # Adds Dropout to the first hidden layer\n",
        "      layers.MaxPooling2D((2,2)),\n",
        "      layers.Conv2D(64,(3,3),activation='relu'),\n",
        "      layers.Dropout(0.1), # Adds Dropout to the second hidden layer\n",
        "      layers.MaxPooling2D((2,2)),\n",
        "      layers.Conv2D(128,(3,3),activation='relu'),\n",
        "      layers.Dropout(0.1), # Adds Dropout to the second hidden layer\n",
        "      layers.MaxPooling2D((2,2)),\n",
        "      layers.Flatten(),\n",
        "      layers.Dense(128,activation='relu'),\n",
        "      layers.Dense(num_outputs,activation='softmax')\n",
        "  ])\n",
        "  return model\n"
      ],
      "metadata": {
        "id": "QGVsH0uVzH2K"
      },
      "execution_count": 26,
      "outputs": []
    },
    {
      "cell_type": "code",
      "source": [
        "def create_gating_model(num_experts,num_outputs):\n",
        "  model = models.Sequential([\n",
        "      layers.Dense(64, activation='relu',input_shape=(num_experts,)),\n",
        "      layers.Dense(num_outputs,activation='softmax')\n",
        "  ])\n",
        "  return model\n"
      ],
      "metadata": {
        "id": "BSQswDtn0IPd"
      },
      "execution_count": 27,
      "outputs": []
    },
    {
      "cell_type": "code",
      "source": [
        "def create_moe_model(input_shape, num_experts,num_outputs):\n",
        "  expert_input = layers.Input(shape=input_shape,name='expert_input')\n",
        "  expert_model = create_expert_model(input_shape,num_outputs)\n",
        "  expert_output = expert_model(expert_input)\n",
        "  gating_input = layers.Input(shape=(num_experts,),name='gating_input')\n",
        "  gating_model = create_gating_model(num_experts,num_outputs)\n",
        "  gating_output = gating_model(gating_input)\n",
        "\n",
        "  gating_output = layers.Reshape((num_outputs,1))(gating_output)\n",
        "  gating_output = layers.Lambda(lambda x: layers.Flatten()(x))(gating_output)\n",
        "\n",
        "  mixture_output = layers.Multiply()([expert_output,gating_output])\n",
        "  moe_model = models.Model(inputs=[expert_input,gating_input],outputs=mixture_output)\n",
        "\n",
        "  return moe_model\n"
      ],
      "metadata": {
        "id": "czEMKFfp0lev"
      },
      "execution_count": 28,
      "outputs": []
    },
    {
      "cell_type": "code",
      "source": [
        "input_shape = (32,32,3)\n",
        "num_experts = 5\n",
        "num_outputs = 10\n",
        "epochs = 30\n",
        "moe_model = create_moe_model(input_shape,num_experts,num_outputs)\n",
        "\n",
        "moe_model.compile(optimizer='adam',loss='categorical_crossentropy',metrics=['accuracy'])\n"
      ],
      "metadata": {
        "id": "jvWgT_SI2AUf"
      },
      "execution_count": 29,
      "outputs": []
    },
    {
      "cell_type": "code",
      "source": [
        "import matplotlib.pyplot as plt\n",
        "history = moe_model.fit(\n",
        "    [x_train,np.random.rand(len(x_train),num_experts)],\n",
        "    y_train,\n",
        "     validation_split=0.33,\n",
        "    epochs=epochs,\n",
        "    batch_size=64\n",
        ")\n"
      ],
      "metadata": {
        "colab": {
          "base_uri": "https://localhost:8080/"
        },
        "id": "yz3L4T5W2doH",
        "outputId": "9373a390-2396-4105-cec1-b07e1d31bbbf"
      },
      "execution_count": 30,
      "outputs": [
        {
          "output_type": "stream",
          "name": "stdout",
          "text": [
            "Epoch 1/30\n",
            "524/524 [==============================] - 7s 9ms/step - loss: 1.6607 - accuracy: 0.3944 - val_loss: 1.4564 - val_accuracy: 0.4984\n",
            "Epoch 2/30\n",
            "524/524 [==============================] - 5s 9ms/step - loss: 1.2880 - accuracy: 0.5404 - val_loss: 1.2641 - val_accuracy: 0.5716\n",
            "Epoch 3/30\n",
            "524/524 [==============================] - 4s 7ms/step - loss: 1.1432 - accuracy: 0.5971 - val_loss: 1.1954 - val_accuracy: 0.5886\n",
            "Epoch 4/30\n",
            "524/524 [==============================] - 4s 7ms/step - loss: 1.0430 - accuracy: 0.6362 - val_loss: 1.1243 - val_accuracy: 0.6194\n",
            "Epoch 5/30\n",
            "524/524 [==============================] - 4s 8ms/step - loss: 0.9596 - accuracy: 0.6645 - val_loss: 1.1088 - val_accuracy: 0.6169\n",
            "Epoch 6/30\n",
            "524/524 [==============================] - 4s 7ms/step - loss: 0.8894 - accuracy: 0.6893 - val_loss: 0.9750 - val_accuracy: 0.6722\n",
            "Epoch 7/30\n",
            "524/524 [==============================] - 4s 7ms/step - loss: 0.8360 - accuracy: 0.7062 - val_loss: 0.9747 - val_accuracy: 0.6644\n",
            "Epoch 8/30\n",
            "524/524 [==============================] - 5s 9ms/step - loss: 0.7841 - accuracy: 0.7259 - val_loss: 0.9390 - val_accuracy: 0.6749\n",
            "Epoch 9/30\n",
            "524/524 [==============================] - 4s 7ms/step - loss: 0.7387 - accuracy: 0.7413 - val_loss: 0.9387 - val_accuracy: 0.6744\n",
            "Epoch 10/30\n",
            "524/524 [==============================] - 4s 7ms/step - loss: 0.6953 - accuracy: 0.7541 - val_loss: 0.9340 - val_accuracy: 0.6766\n",
            "Epoch 11/30\n",
            "524/524 [==============================] - 4s 7ms/step - loss: 0.6616 - accuracy: 0.7681 - val_loss: 0.8964 - val_accuracy: 0.6844\n",
            "Epoch 12/30\n",
            "524/524 [==============================] - 4s 8ms/step - loss: 0.6295 - accuracy: 0.7745 - val_loss: 0.8673 - val_accuracy: 0.7004\n",
            "Epoch 13/30\n",
            "524/524 [==============================] - 3s 7ms/step - loss: 0.5926 - accuracy: 0.7906 - val_loss: 0.8546 - val_accuracy: 0.7081\n",
            "Epoch 14/30\n",
            "524/524 [==============================] - 4s 7ms/step - loss: 0.5608 - accuracy: 0.8022 - val_loss: 0.9209 - val_accuracy: 0.6838\n",
            "Epoch 15/30\n",
            "524/524 [==============================] - 4s 9ms/step - loss: 0.5363 - accuracy: 0.8109 - val_loss: 0.8681 - val_accuracy: 0.7038\n",
            "Epoch 16/30\n",
            "524/524 [==============================] - 4s 7ms/step - loss: 0.5116 - accuracy: 0.8179 - val_loss: 0.9197 - val_accuracy: 0.6884\n",
            "Epoch 17/30\n",
            "524/524 [==============================] - 4s 7ms/step - loss: 0.4859 - accuracy: 0.8272 - val_loss: 0.8432 - val_accuracy: 0.7119\n",
            "Epoch 18/30\n",
            "524/524 [==============================] - 4s 7ms/step - loss: 0.4628 - accuracy: 0.8345 - val_loss: 0.9142 - val_accuracy: 0.6914\n",
            "Epoch 19/30\n",
            "524/524 [==============================] - 4s 8ms/step - loss: 0.4421 - accuracy: 0.8424 - val_loss: 0.8652 - val_accuracy: 0.7095\n",
            "Epoch 20/30\n",
            "524/524 [==============================] - 4s 7ms/step - loss: 0.4190 - accuracy: 0.8505 - val_loss: 0.8957 - val_accuracy: 0.7053\n",
            "Epoch 21/30\n",
            "524/524 [==============================] - 4s 7ms/step - loss: 0.4007 - accuracy: 0.8568 - val_loss: 0.9011 - val_accuracy: 0.7050\n",
            "Epoch 22/30\n",
            "524/524 [==============================] - 4s 8ms/step - loss: 0.3855 - accuracy: 0.8624 - val_loss: 0.9874 - val_accuracy: 0.6898\n",
            "Epoch 23/30\n",
            "524/524 [==============================] - 4s 7ms/step - loss: 0.3698 - accuracy: 0.8671 - val_loss: 0.8876 - val_accuracy: 0.7132\n",
            "Epoch 24/30\n",
            "524/524 [==============================] - 4s 7ms/step - loss: 0.3530 - accuracy: 0.8730 - val_loss: 0.9992 - val_accuracy: 0.6882\n",
            "Epoch 25/30\n",
            "524/524 [==============================] - 4s 8ms/step - loss: 0.3453 - accuracy: 0.8767 - val_loss: 0.9264 - val_accuracy: 0.7088\n",
            "Epoch 26/30\n",
            "524/524 [==============================] - 4s 7ms/step - loss: 0.3304 - accuracy: 0.8807 - val_loss: 1.0403 - val_accuracy: 0.6928\n",
            "Epoch 27/30\n",
            "524/524 [==============================] - 4s 7ms/step - loss: 0.3144 - accuracy: 0.8884 - val_loss: 1.0717 - val_accuracy: 0.6848\n",
            "Epoch 28/30\n",
            "524/524 [==============================] - 4s 7ms/step - loss: 0.3052 - accuracy: 0.8899 - val_loss: 1.0092 - val_accuracy: 0.7047\n",
            "Epoch 29/30\n",
            "524/524 [==============================] - 4s 8ms/step - loss: 0.2978 - accuracy: 0.8920 - val_loss: 1.0174 - val_accuracy: 0.7043\n",
            "Epoch 30/30\n",
            "524/524 [==============================] - 4s 7ms/step - loss: 0.2846 - accuracy: 0.8992 - val_loss: 1.0046 - val_accuracy: 0.7021\n"
          ]
        }
      ]
    },
    {
      "cell_type": "code",
      "source": [
        "print(history.history.keys())"
      ],
      "metadata": {
        "colab": {
          "base_uri": "https://localhost:8080/"
        },
        "id": "Yla9__AD22tO",
        "outputId": "b1cb77e0-9be6-423d-8785-8eaa4235d21c"
      },
      "execution_count": 31,
      "outputs": [
        {
          "output_type": "stream",
          "name": "stdout",
          "text": [
            "dict_keys(['loss', 'accuracy', 'val_loss', 'val_accuracy'])\n"
          ]
        }
      ]
    },
    {
      "cell_type": "code",
      "source": [],
      "metadata": {
        "id": "lWQiNUQ3UQsp"
      },
      "execution_count": null,
      "outputs": []
    },
    {
      "cell_type": "code",
      "source": [
        "plt.plot(history.history['accuracy'])\n",
        "plt.plot(history.history['val_accuracy'])\n",
        "plt.title('model accuracy')\n",
        "plt.ylabel('accuracy')\n",
        "plt.xlabel('epoch')\n",
        "plt.legend(['train', 'test'], loc='upper left')\n",
        "plt.show()"
      ],
      "metadata": {
        "colab": {
          "base_uri": "https://localhost:8080/",
          "height": 472
        },
        "id": "7auKKs1mRAku",
        "outputId": "9d3ea312-b0f7-444d-ebdc-71570b17d43f"
      },
      "execution_count": 32,
      "outputs": [
        {
          "output_type": "display_data",
          "data": {
            "text/plain": [
              "<Figure size 640x480 with 1 Axes>"
            ],
            "image/png": "[encoded data removed]"
          },
          "metadata": {}
        }
      ]
    },
    {
      "cell_type": "code",
      "source": [],
      "metadata": {
        "id": "dii9cV5WRKci"
      },
      "execution_count": null,
      "outputs": []
    }
  ]
}